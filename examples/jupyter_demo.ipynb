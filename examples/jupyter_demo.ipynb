{
 "cells": [
  {
   "cell_type": "code",
   "execution_count": 1,
   "id": "initial_id",
   "metadata": {
    "collapsed": true
   },
   "outputs": [],
   "source": [
    "#import packages\n",
    "import schwabdev\n",
    "import logging\n",
    "import dotenv\n",
    "import os"
   ]
  },
  {
   "cell_type": "code",
   "execution_count": 2,
   "id": "99702f6a92a22ca7",
   "metadata": {},
   "outputs": [
    {
     "name": "stderr",
     "output_type": "stream",
     "text": [
      "INFO:Schwabdev.Tokens:Access token expires in 00H:26M:47S\n",
      "INFO:Schwabdev.Tokens:Refresh token expires in 167H:56M:47S\n",
      "INFO:Schwabdev.Client:Client Initialization Complete\n"
     ]
    }
   ],
   "source": [
    "# set logging level\n",
    "logging.basicConfig(level=logging.INFO)\n",
    "\n",
    "#load environment variables and make client\n",
    "dotenv.load_dotenv()\n",
    "client = schwabdev.Client(os.getenv('app_key'), os.getenv('app_secret'), os.getenv('callback_url'))"
   ]
  },
  {
   "cell_type": "markdown",
   "id": "5cfc8e6c5d21383",
   "metadata": {},
   "source": [
    "# Basic API calls"
   ]
  },
  {
   "cell_type": "code",
   "execution_count": 3,
   "id": "99904111f851f396",
   "metadata": {},
   "outputs": [
    {
     "name": "stdout",
     "output_type": "stream",
     "text": [
      "[{'accountNumber': '64577721', 'hashValue': '8FEC8181C0DCAB0A44C1BB39C924CBE5605B97DD6EE498389C24D8A31341E95D'}]\n"
     ]
    }
   ],
   "source": [
    "# get account number and hashes for linked accounts\n",
    "linked_accounts = client.account_linked().json()\n",
    "print(linked_accounts)\n",
    "# select the first account to use for orders\n",
    "account_hash = linked_accounts[0].get('hashValue')"
   ]
  },
  {
   "cell_type": "code",
   "execution_count": 4,
   "id": "7ee8091c36c0d066",
   "metadata": {},
   "outputs": [
    {
     "name": "stdout",
     "output_type": "stream",
     "text": [
      "{'securitiesAccount': {'type': 'MARGIN', 'accountNumber': '64577721', 'roundTrips': 0, 'isDayTrader': False, 'isClosingOnlyRestricted': False, 'pfcbFlag': False, 'positions': [{'shortQuantity': 0.0, 'averagePrice': 44.9578, 'currentDayProfitLoss': 32.0, 'currentDayProfitLossPercentage': 0.16, 'longQuantity': 500.0, 'settledLongQuantity': 500.0, 'settledShortQuantity': 0.0, 'instrument': {'assetType': 'EQUITY', 'cusip': '015393101', 'symbol': 'ALFVY', 'netChange': 0.064}, 'marketValue': 20547.0, 'maintenanceRequirement': 0.0, 'averageLongPrice': 44.9578, 'taxLotAverageLongPrice': 44.9578, 'longOpenProfitLoss': -1931.899999999999, 'previousSessionLongQuantity': 500.0, 'currentDayCost': 0.0}, {'shortQuantity': 0.0, 'averagePrice': 274.797861129081, 'currentDayProfitLoss': -97.424112000008, 'currentDayProfitLossPercentage': -0.09, 'longQuantity': 202.9669, 'settledLongQuantity': 202.9669, 'settledShortQuantity': 0.0, 'instrument': {'assetType': 'COLLECTIVE_INVESTMENT', 'cusip': '46090E103', 'symbol': 'QQQ', 'description': 'INVSC QQQ TRUST SRS 1 ETF', 'type': 'EXCHANGE_TRADED_FUND'}, 'marketValue': 102626.15, 'maintenanceRequirement': 0.0, 'averageLongPrice': 274.797667204406, 'taxLotAverageLongPrice': 274.797861129081, 'longOpenProfitLoss': 46851.283647, 'previousSessionLongQuantity': 202.9669, 'currentDayCost': 0.0}, {'shortQuantity': 0.0, 'averagePrice': 389.110121186428, 'currentDayProfitLoss': 247.578880000016, 'currentDayProfitLossPercentage': 0.14, 'longQuantity': 309.4736, 'settledLongQuantity': 309.4736, 'settledShortQuantity': 0.0, 'instrument': {'assetType': 'COLLECTIVE_INVESTMENT', 'cusip': '464287200', 'symbol': 'IVV', 'description': 'ISHARES CORE S&P 500 ETF', 'type': 'EXCHANGE_TRADED_FUND'}, 'marketValue': 181116.33, 'maintenanceRequirement': 0.0, 'averageLongPrice': 389.111211474129, 'taxLotAverageLongPrice': 389.110121186428, 'longOpenProfitLoss': 60697.019664, 'previousSessionLongQuantity': 309.4736, 'currentDayCost': 0.0}, {'shortQuantity': 0.0, 'averagePrice': 63.562278664097, 'currentDayProfitLoss': 235.461274619996, 'currentDayProfitLossPercentage': 0.97, 'longQuantity': 327.3023, 'settledLongQuantity': 327.3023, 'settledShortQuantity': 0.0, 'instrument': {'assetType': 'COLLECTIVE_INVESTMENT', 'cusip': '464288406', 'symbol': 'IMCV', 'description': 'ISHARES MORNINGSTAR MID CAP ETF', 'type': 'EXCHANGE_TRADED_FUND'}, 'marketValue': 24514.75, 'maintenanceRequirement': 0.0, 'averageLongPrice': 63.562034519291, 'taxLotAverageLongPrice': 63.562278664097, 'longOpenProfitLoss': 3710.665888619999, 'previousSessionLongQuantity': 327.3023, 'currentDayCost': 0.0}, {'shortQuantity': 0.0, 'averagePrice': 41.153313986947, 'currentDayProfitLoss': -567.436211999997, 'currentDayProfitLossPercentage': -1.89, 'longQuantity': 294.0084, 'settledLongQuantity': 294.0084, 'settledShortQuantity': 0.0, 'instrument': {'assetType': 'EQUITY', 'cusip': '46284V101', 'symbol': 'IRM', 'netChange': 1.8}, 'marketValue': 29491.98, 'maintenanceRequirement': 0.0, 'averageLongPrice': 41.273645169601, 'taxLotAverageLongPrice': 41.153313986947, 'longOpenProfitLoss': 17392.562604000002, 'previousSessionLongQuantity': 294.0084, 'currentDayCost': 0.0}, {'shortQuantity': 0.0, 'averagePrice': 70.827398528973, 'currentDayProfitLoss': 317.555398999997, 'currentDayProfitLossPercentage': 1.07, 'longQuantity': 327.3767, 'settledLongQuantity': 327.3767, 'settledShortQuantity': 0.0, 'instrument': {'assetType': 'COLLECTIVE_INVESTMENT', 'cusip': '81369Y506', 'symbol': 'XLE', 'description': 'ENERGY SELECT SECTOR SPDR ETF', 'type': 'EXCHANGE_TRADED_FUND'}, 'marketValue': 29860.03, 'maintenanceRequirement': 0.0, 'averageLongPrice': 70.827698541314, 'taxLotAverageLongPrice': 70.827398528973, 'longOpenProfitLoss': 6672.788806999998, 'previousSessionLongQuantity': 327.3767, 'currentDayCost': 0.0}, {'shortQuantity': 0.0, 'averagePrice': 64.495089664932, 'currentDayProfitLoss': 91.972745999999, 'currentDayProfitLossPercentage': 1.29, 'longQuantity': 105.7158, 'settledLongQuantity': 105.7158, 'settledShortQuantity': 0.0, 'instrument': {'assetType': 'COLLECTIVE_INVESTMENT', 'cusip': '46435G268', 'symbol': 'SMMD', 'description': 'ISHARES RUSSELL 2500 ETF', 'type': 'EXCHANGE_TRADED_FUND'}, 'marketValue': 7220.39, 'maintenanceRequirement': 0.0, 'averageLongPrice': 64.494883762787, 'taxLotAverageLongPrice': 64.495089664932, 'longOpenProfitLoss': 402.23914, 'previousSessionLongQuantity': 105.7158, 'currentDayCost': 0.0}, {'shortQuantity': 0.0, 'averagePrice': 1.0, 'currentDayProfitLoss': 0.0, 'currentDayProfitLossPercentage': 0.0, 'longQuantity': 342570.0, 'settledLongQuantity': 342570.0, 'settledShortQuantity': 0.0, 'agedQuantity': 342570.0, 'instrument': {'assetType': 'MUTUAL_FUND', 'cusip': '808508303', 'symbol': 'SWYXX', 'description': 'Schwab NY Municipal Money Inv', 'netChange': 0.0, 'type': 'NO_LOAD_NON_TAXABLE'}, 'marketValue': 342570.0, 'maintenanceRequirement': 34257.0, 'averageLongPrice': 1.0, 'taxLotAverageLongPrice': 1.0, 'longOpenProfitLoss': 0.0, 'previousSessionLongQuantity': 342570.0, 'currentDayCost': 0.0}, {'shortQuantity': 0.0, 'averagePrice': 20.45184494605, 'currentDayProfitLoss': 360.083699999999, 'currentDayProfitLossPercentage': 1.29, 'longQuantity': 1000.2325, 'settledLongQuantity': 1000.2325, 'settledShortQuantity': 0.0, 'instrument': {'assetType': 'COLLECTIVE_INVESTMENT', 'cusip': '97717Y659', 'symbol': 'WCBR', 'description': 'WISDOMTREE CYBERSECURITY ETF', 'type': 'EXCHANGE_TRADED_FUND'}, 'marketValue': 28326.58, 'maintenanceRequirement': 0.0, 'averageLongPrice': 20.451844051008, 'taxLotAverageLongPrice': 20.45184494605, 'longOpenProfitLoss': 7869.984400000002, 'previousSessionLongQuantity': 1000.2325, 'currentDayCost': 0.0}, {'shortQuantity': 0.0, 'averagePrice': 304.774763887, 'currentDayProfitLoss': -493.023247999983, 'currentDayProfitLossPercentage': -0.36, 'longQuantity': 324.3574, 'settledLongQuantity': 324.3574, 'settledShortQuantity': 0.0, 'instrument': {'assetType': 'EQUITY', 'cusip': '594918104', 'symbol': 'MSFT', 'netChange': -1.52}, 'marketValue': 135039.72, 'maintenanceRequirement': 0.0, 'averageLongPrice': 304.774520911057, 'taxLotAverageLongPrice': 304.774763887, 'longOpenProfitLoss': 36183.76634199878, 'previousSessionLongQuantity': 324.3574, 'currentDayCost': 0.0}, {'shortQuantity': 0.0, 'averagePrice': 20.897353466177, 'currentDayProfitLoss': -2942.223081000033, 'currentDayProfitLossPercentage': -1.11, 'longQuantity': 2001.5123, 'settledLongQuantity': 2001.5123, 'settledShortQuantity': 0.0, 'instrument': {'assetType': 'EQUITY', 'cusip': '67066G104', 'symbol': 'NVDA', 'netChange': -1.47}, 'marketValue': 262758.53, 'maintenanceRequirement': 0.0, 'averageLongPrice': 20.897471948406, 'taxLotAverageLongPrice': 20.897353466177, 'longOpenProfitLoss': 220932.224744, 'previousSessionLongQuantity': 2001.5123, 'currentDayCost': 0.0}, {'shortQuantity': 0.0, 'averagePrice': 100.815411293377, 'currentDayProfitLoss': -63.215459999999, 'currentDayProfitLossPercentage': -0.65, 'longQuantity': 50.171, 'settledLongQuantity': 50.171, 'settledShortQuantity': 0.0, 'instrument': {'assetType': 'EQUITY', 'cusip': '02079K107', 'symbol': 'GOOG', 'netChange': -1.24}, 'marketValue': 9621.79, 'maintenanceRequirement': 0.0, 'averageLongPrice': 100.815731976839, 'taxLotAverageLongPrice': 100.815411293377, 'longOpenProfitLoss': 4563.78438, 'previousSessionLongQuantity': 50.171, 'currentDayCost': 0.0}, {'shortQuantity': 0.0, 'averagePrice': 29.6577044091, 'currentDayProfitLoss': 0.0, 'currentDayProfitLossPercentage': 0.0, 'longQuantity': 716.9213, 'settledLongQuantity': 716.9213, 'settledShortQuantity': 0.0, 'instrument': {'assetType': 'EQUITY', 'cusip': '458140100', 'symbol': 'INTC', 'netChange': 0.0}, 'marketValue': 13772.06, 'maintenanceRequirement': 0.0, 'averageLongPrice': 29.657651453057, 'taxLotAverageLongPrice': 29.6577044091, 'longOpenProfitLoss': -7490.181826987702, 'previousSessionLongQuantity': 716.9213, 'currentDayCost': 0.0}, {'shortQuantity': 0.0, 'averagePrice': 241.935339244794, 'currentDayProfitLoss': -282.641920000002, 'currentDayProfitLossPercentage': -2.31, 'longQuantity': 20.074, 'settledLongQuantity': 20.074, 'settledShortQuantity': 0.0, 'instrument': {'assetType': 'EQUITY', 'cusip': '30303M102', 'symbol': 'META', 'netChange': -14.08}, 'marketValue': 11944.03, 'maintenanceRequirement': 0.0, 'averageLongPrice': 241.942905583242, 'taxLotAverageLongPrice': 241.935339244794, 'longOpenProfitLoss': 7087.420000000001, 'previousSessionLongQuantity': 20.074, 'currentDayCost': 0.0}, {'shortQuantity': 0.0, 'averagePrice': 66.7091029759, 'currentDayProfitLoss': 246.680265000001, 'currentDayProfitLossPercentage': 1.55, 'longQuantity': 103.2135, 'settledLongQuantity': 103.2135, 'settledShortQuantity': 0.0, 'instrument': {'assetType': 'EQUITY', 'cusip': '68389X105', 'symbol': 'ORCL', 'netChange': 2.39}, 'marketValue': 16164.27, 'maintenanceRequirement': 0.0, 'averageLongPrice': 66.708885561773, 'taxLotAverageLongPrice': 66.7091029759, 'longOpenProfitLoss': 9278.986234996946, 'previousSessionLongQuantity': 103.2135, 'currentDayCost': 0.0}, {'shortQuantity': 0.0, 'averagePrice': 37.9599, 'currentDayProfitLoss': 88.0, 'currentDayProfitLossPercentage': 1.43, 'longQuantity': 100.0, 'settledLongQuantity': 100.0, 'settledShortQuantity': 0.0, 'instrument': {'assetType': 'EQUITY', 'cusip': '771049103', 'symbol': 'RBLX', 'netChange': 0.89}, 'marketValue': 6249.0, 'maintenanceRequirement': 0.0, 'averageLongPrice': 37.9599, 'taxLotAverageLongPrice': 37.9599, 'longOpenProfitLoss': 2453.01, 'previousSessionLongQuantity': 100.0, 'currentDayCost': 0.0}], 'initialBalances': {'accruedInterest': 0.0, 'availableFundsNonMarginableTrade': 1132334.0, 'bondValue': 4529332.96, 'buyingPower': 1132334.41, 'cashBalance': 91315.24, 'cashAvailableForTrading': 0.0, 'cashReceipts': 0.0, 'dayTradingBuyingPower': 7552670.0, 'dayTradingBuyingPowerCall': 0.0, 'dayTradingEquityCall': 0.0, 'equity': 1295892.5, 'equityPercentage': 100.0, 'liquidationValue': 1316407.5, 'longMarginValue': 1225092.26, 'longOptionMarketValue': 0.0, 'longStockValue': 1225092.26, 'maintenanceCall': 0.0, 'maintenanceRequirement': 163558.0, 'margin': 91315.24, 'marginEquity': 0.0, 'moneyMarketFund': 0.0, 'mutualFundValue': 1132334.0, 'regTCall': 0.0, 'shortMarginValue': 0.0, 'shortOptionMarketValue': 0.0, 'shortStockValue': 0.0, 'totalCash': 0.0, 'isInCall': False, 'pendingDeposits': 0.0, 'marginBalance': 0.0, 'shortBalance': 9486.0, 'accountValue': 1316407.5}, 'currentBalances': {'accruedInterest': 0.0, 'cashBalance': 91315.24, 'cashReceipts': 0.0, 'longOptionMarketValue': 0.0, 'liquidationValue': 1313137.85, 'longMarketValue': 879252.61, 'moneyMarketFund': 0.0, 'savings': 0.0, 'shortMarketValue': 0.0, 'pendingDeposits': 0.0, 'mutualFundValue': 342570.0, 'bondValue': 0.0, 'shortOptionMarketValue': 0.0, 'availableFunds': 1129528.01, 'availableFundsNonMarginableTrade': 1129528.01, 'buyingPower': 1129528.01, 'buyingPowerNonMarginableTrade': 1129528.01, 'dayTradingBuyingPower': 7552670.0, 'equity': 1292590.85, 'equityPercentage': 100.0, 'longMarginValue': 1201275.61, 'maintenanceCall': 0.0, 'maintenanceRequirement': 163062.84, 'marginBalance': 0.0, 'regTCall': 0.0, 'shortBalance': 0.0, 'shortMarginValue': 0.0, 'sma': 0.0}, 'projectedBalances': {'availableFunds': 1129528.01, 'availableFundsNonMarginableTrade': 1129528.01, 'buyingPower': 1129528.01, 'dayTradingBuyingPower': 7552670.0, 'dayTradingBuyingPowerCall': 0.0, 'maintenanceCall': 0.0, 'regTCall': 0.0, 'isInCall': False, 'stockBuyingPower': 1129528.01}}, 'aggregatedBalance': {'currentLiquidationValue': 1313137.85, 'liquidationValue': 1313137.85}}\n"
     ]
    }
   ],
   "source": [
    "# get positions for selected account\n",
    "print(client.account_details(account_hash, fields=\"positions\").json())"
   ]
  },
  {
   "cell_type": "code",
   "execution_count": 5,
   "id": "706a555f317f99ee",
   "metadata": {},
   "outputs": [
    {
     "name": "stdout",
     "output_type": "stream",
     "text": [
      "{'AAPL': {'assetMainType': 'EQUITY', 'assetSubType': 'COE', 'quoteType': 'NBBO', 'realtime': True, 'ssid': 1973757747, 'symbol': 'AAPL', 'extended': {'askPrice': 233.9, 'askSize': 424, 'bidPrice': 233.62, 'bidSize': 295, 'lastPrice': 233.89, 'lastSize': 10, 'mark': 233.89, 'quoteTime': 1736911143000, 'totalVolume': 0, 'tradeTime': 1736911052000}, 'fundamental': {'avg10DaysVolume': 42588274.0, 'avg1YearVolume': 56859565.0, 'declarationDate': '2024-10-31T04:00:00Z', 'divAmount': 1.0, 'divExDate': '2024-11-08T05:00:00Z', 'divFreq': 4, 'divPayAmount': 0.25, 'divPayDate': '2024-11-14T05:00:00Z', 'divYield': 0.42221, 'eps': 6.08, 'fundLeverageFactor': 0.0, 'lastEarningsDate': '2024-10-31T04:00:00Z', 'nextDivExDate': '2025-02-10T05:00:00Z', 'nextDivPayDate': '2025-02-14T05:00:00Z', 'peRatio': 38.55263}, 'quote': {'52WeekHigh': 260.1, '52WeekLow': 164.075, 'askMICId': 'XNAS', 'askPrice': 233.78, 'askSize': 1, 'askTime': 1736902444863, 'bidMICId': 'ARCX', 'bidPrice': 233.43, 'bidSize': 5, 'bidTime': 1736902796876, 'closePrice': 234.4, 'highPrice': 236.12, 'lastMICId': 'ARCX', 'lastPrice': 233.69, 'lastSize': 48, 'lowPrice': 232.472, 'mark': 233.43, 'markChange': -0.97, 'markPercentChange': -0.41382253, 'netChange': -0.71, 'netPercentChange': -0.30290102, 'openPrice': 234.75, 'postMarketChange': 0.41, 'postMarketPercentChange': 0.17575446, 'quoteTime': 1736902796876, 'securityStatus': 'Normal', 'totalVolume': 39435294, 'tradeTime': 1736902796879}, 'reference': {'cusip': '037833100', 'description': 'APPLE INC', 'exchange': 'Q', 'exchangeName': 'NASDAQ', 'isHardToBorrow': False, 'isShortable': True, 'htbRate': 0.0}, 'regular': {'regularMarketLastPrice': 233.28, 'regularMarketLastSize': 6158588, 'regularMarketNetChange': -1.12, 'regularMarketPercentChange': -0.4778157, 'regularMarketTradeTime': 1736888400538}}, 'AMD': {'assetMainType': 'EQUITY', 'assetSubType': 'COE', 'quoteType': 'NBBO', 'realtime': True, 'ssid': 1449199007, 'symbol': 'AMD', 'extended': {'askPrice': 115.85, 'askSize': 238, 'bidPrice': 115.81, 'bidSize': 208, 'lastPrice': 115.81, 'lastSize': 278, 'mark': 115.81, 'quoteTime': 1736911144000, 'totalVolume': 0, 'tradeTime': 1736911138000}, 'fundamental': {'avg10DaysVolume': 38318904.0, 'avg1YearVolume': 52607918.0, 'divAmount': 0.0, 'divFreq': 0, 'divPayAmount': 0.0, 'divYield': 0.0, 'eps': 0.52912, 'fundLeverageFactor': 0.0, 'lastEarningsDate': '2024-10-29T04:00:00Z', 'peRatio': 103.98773}, 'quote': {'52WeekHigh': 227.3, '52WeekLow': 114.41, 'askMICId': 'EDGX', 'askPrice': 115.84, 'askSize': 5, 'askTime': 1736902799370, 'bidMICId': 'XNAS', 'bidPrice': 115.8, 'bidSize': 1, 'bidTime': 1736902748563, 'closePrice': 117.32, 'highPrice': 118.66, 'lastMICId': 'XADF', 'lastPrice': 115.87, 'lastSize': 50, 'lowPrice': 114.5, 'mark': 115.84, 'markChange': -1.48, 'markPercentChange': -1.26150699, 'netChange': -1.45, 'netPercentChange': -1.2359359, 'openPrice': 118.0, 'postMarketChange': -0.22, 'postMarketPercentChange': -0.18950814, 'quoteTime': 1736902799370, 'securityStatus': 'Normal', 'totalVolume': 37005279, 'tradeTime': 1736902794914}, 'reference': {'cusip': '007903107', 'description': 'Advanced Micro Devic', 'exchange': 'Q', 'exchangeName': 'NASDAQ', 'isHardToBorrow': False, 'isShortable': True, 'htbRate': 0.0}, 'regular': {'regularMarketLastPrice': 116.09, 'regularMarketLastSize': 1816062, 'regularMarketNetChange': -1.23, 'regularMarketPercentChange': -1.04841459, 'regularMarketTradeTime': 1736888400192}}}\n"
     ]
    }
   ],
   "source": [
    "# get a list of quotes\n",
    "print(client.quotes([\"AAPL\", \"AMD\"]).json())"
   ]
  },
  {
   "cell_type": "code",
   "execution_count": 6,
   "id": "791f4d37b7a1cb5e",
   "metadata": {},
   "outputs": [
    {
     "name": "stdout",
     "output_type": "stream",
     "text": [
      "{'expirationList': [{'expirationDate': '2025-01-17', 'daysToExpiration': 3, 'expirationType': 'S', 'settlementType': 'P', 'optionRoots': 'AAPL', 'standard': True}, {'expirationDate': '2025-01-24', 'daysToExpiration': 10, 'expirationType': 'W', 'settlementType': 'P', 'optionRoots': 'AAPL', 'standard': True}, {'expirationDate': '2025-01-31', 'daysToExpiration': 17, 'expirationType': 'W', 'settlementType': 'P', 'optionRoots': 'AAPL', 'standard': True}, {'expirationDate': '2025-02-07', 'daysToExpiration': 24, 'expirationType': 'W', 'settlementType': 'P', 'optionRoots': 'AAPL', 'standard': True}, {'expirationDate': '2025-02-14', 'daysToExpiration': 31, 'expirationType': 'W', 'settlementType': 'P', 'optionRoots': 'AAPL', 'standard': True}, {'expirationDate': '2025-02-21', 'daysToExpiration': 38, 'expirationType': 'S', 'settlementType': 'P', 'optionRoots': 'AAPL', 'standard': True}, {'expirationDate': '2025-02-28', 'daysToExpiration': 45, 'expirationType': 'W', 'settlementType': 'P', 'optionRoots': 'AAPL', 'standard': True}, {'expirationDate': '2025-03-21', 'daysToExpiration': 66, 'expirationType': 'S', 'settlementType': 'P', 'optionRoots': 'AAPL', 'standard': True}, {'expirationDate': '2025-04-17', 'daysToExpiration': 93, 'expirationType': 'S', 'settlementType': 'P', 'optionRoots': 'AAPL', 'standard': True}, {'expirationDate': '2025-05-16', 'daysToExpiration': 122, 'expirationType': 'S', 'settlementType': 'P', 'optionRoots': 'AAPL', 'standard': True}, {'expirationDate': '2025-06-20', 'daysToExpiration': 157, 'expirationType': 'S', 'settlementType': 'P', 'optionRoots': 'AAPL', 'standard': True}, {'expirationDate': '2025-07-18', 'daysToExpiration': 185, 'expirationType': 'S', 'settlementType': 'P', 'optionRoots': 'AAPL', 'standard': True}, {'expirationDate': '2025-08-15', 'daysToExpiration': 213, 'expirationType': 'S', 'settlementType': 'P', 'optionRoots': 'AAPL', 'standard': True}, {'expirationDate': '2025-09-19', 'daysToExpiration': 248, 'expirationType': 'S', 'settlementType': 'P', 'optionRoots': 'AAPL', 'standard': True}, {'expirationDate': '2025-10-17', 'daysToExpiration': 276, 'expirationType': 'S', 'settlementType': 'P', 'optionRoots': 'AAPL', 'standard': True}, {'expirationDate': '2025-12-19', 'daysToExpiration': 339, 'expirationType': 'S', 'settlementType': 'P', 'optionRoots': 'AAPL', 'standard': True}, {'expirationDate': '2026-01-16', 'daysToExpiration': 367, 'expirationType': 'S', 'settlementType': 'P', 'optionRoots': 'AAPL', 'standard': True}, {'expirationDate': '2026-06-18', 'daysToExpiration': 520, 'expirationType': 'S', 'settlementType': 'P', 'optionRoots': 'AAPL', 'standard': True}, {'expirationDate': '2026-12-18', 'daysToExpiration': 703, 'expirationType': 'S', 'settlementType': 'P', 'optionRoots': 'AAPL', 'standard': True}, {'expirationDate': '2027-01-15', 'daysToExpiration': 731, 'expirationType': 'S', 'settlementType': 'P', 'optionRoots': 'AAPL', 'standard': True}]}\n"
     ]
    }
   ],
   "source": [
    "# get an option chain\n",
    "print(client.option_expiration_chain(\"AAPL\").json())"
   ]
  },
  {
   "cell_type": "markdown",
   "id": "c7e3dc8274757630",
   "metadata": {},
   "source": [
    "# Order example"
   ]
  },
  {
   "cell_type": "code",
   "execution_count": 7,
   "id": "12ce8ea103853c49",
   "metadata": {},
   "outputs": [
    {
     "name": "stdout",
     "output_type": "stream",
     "text": [
      "Response code: <Response [429]>\n",
      "Order id: \n"
     ]
    }
   ],
   "source": [
    "# place an order for INTC at limit price $10.00\n",
    "order = {\"orderType\": \"LIMIT\", \n",
    "         \"session\": \"NORMAL\", \n",
    "         \"duration\": \"DAY\", \n",
    "         \"orderStrategyType\": \"SINGLE\", \n",
    "         \"price\": '10.00',\n",
    "         \"orderLegCollection\": [\n",
    "             {\"instruction\": \"BUY\", \n",
    "              \"quantity\": 1, \n",
    "              \"instrument\": \n",
    "                  {\"symbol\": \"INTC\", \n",
    "                   \"assetType\": \"EQUITY\"\n",
    "                   }\n",
    "              }\n",
    "         ]}\n",
    "resp = client.order_place(account_hash, order)\n",
    "print(f\"Response code: {resp}\") \n",
    "\n",
    "# get the order ID - if order is immediately filled then the id might not be returned\n",
    "order_id = resp.headers.get('location', '/').split('/')[-1] \n",
    "print(f\"Order id: {order_id}\")"
   ]
  },
  {
   "cell_type": "code",
   "execution_count": 8,
   "id": "4f95a82378df8e73",
   "metadata": {
    "jupyter": {
     "is_executing": true
    }
   },
   "outputs": [
    {
     "name": "stdout",
     "output_type": "stream",
     "text": [
      "<Response [429]>\n"
     ]
    }
   ],
   "source": [
    "# cancel the order\n",
    "print(client.order_cancel(account_hash, order_id))"
   ]
  },
  {
   "cell_type": "markdown",
   "id": "20bb6b09489bf1a9",
   "metadata": {},
   "source": [
    "# Streaming example"
   ]
  },
  {
   "cell_type": "code",
   "execution_count": 3,
   "id": "96d8a48e39b05465",
   "metadata": {},
   "outputs": [],
   "source": [
    "# create streamer\n",
    "streamer = client.stream"
   ]
  },
  {
   "cell_type": "code",
   "execution_count": 4,
   "id": "9449da0e5ab23a6b",
   "metadata": {},
   "outputs": [],
   "source": [
    "# create a list to store responses\n",
    "responses = []\n",
    "def add_to_list(message):\n",
    "    responses.append(message)"
   ]
  },
  {
   "cell_type": "code",
   "execution_count": 5,
   "id": "7cdeaaa69efb6f3f",
   "metadata": {},
   "outputs": [
    {
     "name": "stderr",
     "output_type": "stream",
     "text": [
      "INFO:Schwabdev.Stream:Connecting to streaming server...\n",
      "INFO:Schwabdev.Stream:Connected to streaming server.\n"
     ]
    }
   ],
   "source": [
    "#start stream and send request\n",
    "streamer.start(add_to_list)\n",
    "\n"
   ]
  },
  {
   "cell_type": "code",
   "execution_count": 6,
   "id": "cb764fa0",
   "metadata": {},
   "outputs": [
    {
     "ename": "RuntimeError",
     "evalue": "asyncio.run() cannot be called from a running event loop",
     "output_type": "error",
     "traceback": [
      "\u001b[0;31m---------------------------------------------------------------------------\u001b[0m",
      "\u001b[0;31mRuntimeError\u001b[0m                              Traceback (most recent call last)",
      "Cell \u001b[0;32mIn[6], line 1\u001b[0m\n\u001b[0;32m----> 1\u001b[0m streamer\u001b[38;5;241m.\u001b[39msend(streamer\u001b[38;5;241m.\u001b[39mlevel_one_equities(\u001b[38;5;124m\"\u001b[39m\u001b[38;5;124mAMD\u001b[39m\u001b[38;5;124m\"\u001b[39m, \u001b[38;5;124m\"\u001b[39m\u001b[38;5;124m0,1,2,3,4,5,6,7,8\u001b[39m\u001b[38;5;124m\"\u001b[39m))\n",
      "File \u001b[0;32m~/miniconda3/envs/schwab-trading/lib/python3.11/site-packages/schwabdev/stream.py:219\u001b[0m, in \u001b[0;36mStream.send\u001b[0;34m(self, requests)\u001b[0m\n\u001b[1;32m    213\u001b[0m \u001b[38;5;250m\u001b[39m\u001b[38;5;124;03m\"\"\"\u001b[39;00m\n\u001b[1;32m    214\u001b[0m \u001b[38;5;124;03mSend a request to the stream\u001b[39;00m\n\u001b[1;32m    215\u001b[0m \u001b[38;5;124;03m:param requests: list of requests or a single request\u001b[39;00m\n\u001b[1;32m    216\u001b[0m \u001b[38;5;124;03m:type requests: list | dict\u001b[39;00m\n\u001b[1;32m    217\u001b[0m \u001b[38;5;124;03m\"\"\"\u001b[39;00m\n\u001b[1;32m    218\u001b[0m \u001b[38;5;66;03m# send the request using the async function\u001b[39;00m\n\u001b[0;32m--> 219\u001b[0m asyncio\u001b[38;5;241m.\u001b[39mrun(\u001b[38;5;28mself\u001b[39m\u001b[38;5;241m.\u001b[39msend_async(requests))\n",
      "File \u001b[0;32m~/miniconda3/envs/schwab-trading/lib/python3.11/asyncio/runners.py:186\u001b[0m, in \u001b[0;36mrun\u001b[0;34m(main, debug)\u001b[0m\n\u001b[1;32m    161\u001b[0m \u001b[38;5;250m\u001b[39m\u001b[38;5;124;03m\"\"\"Execute the coroutine and return the result.\u001b[39;00m\n\u001b[1;32m    162\u001b[0m \n\u001b[1;32m    163\u001b[0m \u001b[38;5;124;03mThis function runs the passed coroutine, taking care of\u001b[39;00m\n\u001b[0;32m   (...)\u001b[0m\n\u001b[1;32m    182\u001b[0m \u001b[38;5;124;03m    asyncio.run(main())\u001b[39;00m\n\u001b[1;32m    183\u001b[0m \u001b[38;5;124;03m\"\"\"\u001b[39;00m\n\u001b[1;32m    184\u001b[0m \u001b[38;5;28;01mif\u001b[39;00m events\u001b[38;5;241m.\u001b[39m_get_running_loop() \u001b[38;5;129;01mis\u001b[39;00m \u001b[38;5;129;01mnot\u001b[39;00m \u001b[38;5;28;01mNone\u001b[39;00m:\n\u001b[1;32m    185\u001b[0m     \u001b[38;5;66;03m# fail fast with short traceback\u001b[39;00m\n\u001b[0;32m--> 186\u001b[0m     \u001b[38;5;28;01mraise\u001b[39;00m \u001b[38;5;167;01mRuntimeError\u001b[39;00m(\n\u001b[1;32m    187\u001b[0m         \u001b[38;5;124m\"\u001b[39m\u001b[38;5;124masyncio.run() cannot be called from a running event loop\u001b[39m\u001b[38;5;124m\"\u001b[39m)\n\u001b[1;32m    189\u001b[0m \u001b[38;5;28;01mwith\u001b[39;00m Runner(debug\u001b[38;5;241m=\u001b[39mdebug) \u001b[38;5;28;01mas\u001b[39;00m runner:\n\u001b[1;32m    190\u001b[0m     \u001b[38;5;28;01mreturn\u001b[39;00m runner\u001b[38;5;241m.\u001b[39mrun(main)\n",
      "\u001b[0;31mRuntimeError\u001b[0m: asyncio.run() cannot be called from a running event loop"
     ]
    }
   ],
   "source": [
    "\n",
    "streamer.send(streamer.level_one_equities(\"AMD\", \"0,1,2,3,4,5,6,7,8\"))"
   ]
  },
  {
   "cell_type": "code",
   "execution_count": 7,
   "id": "4241513b2fbf9f6e",
   "metadata": {},
   "outputs": [
    {
     "name": "stdout",
     "output_type": "stream",
     "text": [
      "['{\"response\":[{\"service\":\"ADMIN\",\"command\":\"LOGIN\",\"requestid\":\"1\",\"SchwabClientCorrelId\":\"ee2e8716-4d94-dc8c-483d-7cfef1b14b2a\",\"timestamp\":1736911356160,\"content\":{\"code\":0,\"msg\":\"server=s0634dc6-2;status=NP\"}}]}', '{\"notify\":[{\"heartbeat\":\"1736911366544\"}]}']\n"
     ]
    }
   ],
   "source": [
    "#check responses\n",
    "print(responses)"
   ]
  },
  {
   "cell_type": "code",
   "execution_count": 8,
   "id": "cb5789c2248b6b54",
   "metadata": {},
   "outputs": [
    {
     "ename": "RuntimeError",
     "evalue": "asyncio.run() cannot be called from a running event loop",
     "output_type": "error",
     "traceback": [
      "\u001b[0;31m---------------------------------------------------------------------------\u001b[0m",
      "\u001b[0;31mRuntimeError\u001b[0m                              Traceback (most recent call last)",
      "Cell \u001b[0;32mIn[8], line 2\u001b[0m\n\u001b[1;32m      1\u001b[0m \u001b[38;5;66;03m#stop stream\u001b[39;00m\n\u001b[0;32m----> 2\u001b[0m streamer\u001b[38;5;241m.\u001b[39mstop()\n",
      "File \u001b[0;32m~/miniconda3/envs/schwab-trading/lib/python3.11/site-packages/schwabdev/stream.py:253\u001b[0m, in \u001b[0;36mStream.stop\u001b[0;34m(self, clear_subscriptions)\u001b[0m\n\u001b[1;32m    251\u001b[0m \u001b[38;5;28;01mif\u001b[39;00m clear_subscriptions:\n\u001b[1;32m    252\u001b[0m     \u001b[38;5;28mself\u001b[39m\u001b[38;5;241m.\u001b[39msubscriptions \u001b[38;5;241m=\u001b[39m {}\n\u001b[0;32m--> 253\u001b[0m \u001b[38;5;28mself\u001b[39m\u001b[38;5;241m.\u001b[39msend(\u001b[38;5;28mself\u001b[39m\u001b[38;5;241m.\u001b[39mbasic_request(service\u001b[38;5;241m=\u001b[39m\u001b[38;5;124m\"\u001b[39m\u001b[38;5;124mADMIN\u001b[39m\u001b[38;5;124m\"\u001b[39m, command\u001b[38;5;241m=\u001b[39m\u001b[38;5;124m\"\u001b[39m\u001b[38;5;124mLOGOUT\u001b[39m\u001b[38;5;124m\"\u001b[39m))\n\u001b[1;32m    254\u001b[0m \u001b[38;5;28mself\u001b[39m\u001b[38;5;241m.\u001b[39mactive \u001b[38;5;241m=\u001b[39m \u001b[38;5;28;01mFalse\u001b[39;00m\n",
      "File \u001b[0;32m~/miniconda3/envs/schwab-trading/lib/python3.11/site-packages/schwabdev/stream.py:219\u001b[0m, in \u001b[0;36mStream.send\u001b[0;34m(self, requests)\u001b[0m\n\u001b[1;32m    213\u001b[0m \u001b[38;5;250m\u001b[39m\u001b[38;5;124;03m\"\"\"\u001b[39;00m\n\u001b[1;32m    214\u001b[0m \u001b[38;5;124;03mSend a request to the stream\u001b[39;00m\n\u001b[1;32m    215\u001b[0m \u001b[38;5;124;03m:param requests: list of requests or a single request\u001b[39;00m\n\u001b[1;32m    216\u001b[0m \u001b[38;5;124;03m:type requests: list | dict\u001b[39;00m\n\u001b[1;32m    217\u001b[0m \u001b[38;5;124;03m\"\"\"\u001b[39;00m\n\u001b[1;32m    218\u001b[0m \u001b[38;5;66;03m# send the request using the async function\u001b[39;00m\n\u001b[0;32m--> 219\u001b[0m asyncio\u001b[38;5;241m.\u001b[39mrun(\u001b[38;5;28mself\u001b[39m\u001b[38;5;241m.\u001b[39msend_async(requests))\n",
      "File \u001b[0;32m~/miniconda3/envs/schwab-trading/lib/python3.11/asyncio/runners.py:186\u001b[0m, in \u001b[0;36mrun\u001b[0;34m(main, debug)\u001b[0m\n\u001b[1;32m    161\u001b[0m \u001b[38;5;250m\u001b[39m\u001b[38;5;124;03m\"\"\"Execute the coroutine and return the result.\u001b[39;00m\n\u001b[1;32m    162\u001b[0m \n\u001b[1;32m    163\u001b[0m \u001b[38;5;124;03mThis function runs the passed coroutine, taking care of\u001b[39;00m\n\u001b[0;32m   (...)\u001b[0m\n\u001b[1;32m    182\u001b[0m \u001b[38;5;124;03m    asyncio.run(main())\u001b[39;00m\n\u001b[1;32m    183\u001b[0m \u001b[38;5;124;03m\"\"\"\u001b[39;00m\n\u001b[1;32m    184\u001b[0m \u001b[38;5;28;01mif\u001b[39;00m events\u001b[38;5;241m.\u001b[39m_get_running_loop() \u001b[38;5;129;01mis\u001b[39;00m \u001b[38;5;129;01mnot\u001b[39;00m \u001b[38;5;28;01mNone\u001b[39;00m:\n\u001b[1;32m    185\u001b[0m     \u001b[38;5;66;03m# fail fast with short traceback\u001b[39;00m\n\u001b[0;32m--> 186\u001b[0m     \u001b[38;5;28;01mraise\u001b[39;00m \u001b[38;5;167;01mRuntimeError\u001b[39;00m(\n\u001b[1;32m    187\u001b[0m         \u001b[38;5;124m\"\u001b[39m\u001b[38;5;124masyncio.run() cannot be called from a running event loop\u001b[39m\u001b[38;5;124m\"\u001b[39m)\n\u001b[1;32m    189\u001b[0m \u001b[38;5;28;01mwith\u001b[39;00m Runner(debug\u001b[38;5;241m=\u001b[39mdebug) \u001b[38;5;28;01mas\u001b[39;00m runner:\n\u001b[1;32m    190\u001b[0m     \u001b[38;5;28;01mreturn\u001b[39;00m runner\u001b[38;5;241m.\u001b[39mrun(main)\n",
      "\u001b[0;31mRuntimeError\u001b[0m: asyncio.run() cannot be called from a running event loop"
     ]
    }
   ],
   "source": [
    "#stop stream\n",
    "streamer.stop()"
   ]
  },
  {
   "cell_type": "code",
   "execution_count": null,
   "id": "99e9f989",
   "metadata": {},
   "outputs": [],
   "source": []
  }
 ],
 "metadata": {
  "kernelspec": {
   "display_name": "schwab-trading",
   "language": "python",
   "name": "python3"
  },
  "language_info": {
   "codemirror_mode": {
    "name": "ipython",
    "version": 3
   },
   "file_extension": ".py",
   "mimetype": "text/x-python",
   "name": "python",
   "nbconvert_exporter": "python",
   "pygments_lexer": "ipython3",
   "version": "3.11.11"
  }
 },
 "nbformat": 4,
 "nbformat_minor": 5
}
